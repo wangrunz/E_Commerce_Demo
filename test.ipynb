{
 "cells": [
  {
   "cell_type": "code",
   "execution_count": 38,
   "metadata": {},
   "outputs": [
    {
     "name": "stdout",
     "output_type": "stream",
     "text": [
      "200 OK b'null'\n"
     ]
    }
   ],
   "source": [
    "import http.client,urllib.parse\n",
    "ip='45.78.59.251:8080'\n",
    "local=\"localhost:8080\"\n",
    "conn = http.client.HTTPConnection(ip)\n",
    "params = urllib.parse.urlencode({'productname': \"iphone4\", 'inventory': 10, 'price': 300,'producttype':2})\n",
    "headers = {\"Content-type\": \"application/x-www-form-urlencoded\",\"Accept\": \"text/plain\"}\n",
    "conn.request(\"POST\", \"/addproduct\",params,headers)\n",
    "r1 = conn.getresponse()\n",
    "print(r1.status, r1.reason,r1.read())"
   ]
  },
  {
   "cell_type": "code",
   "execution_count": 39,
   "metadata": {},
   "outputs": [
    {
     "name": "stdout",
     "output_type": "stream",
     "text": [
      "200 OK b'null'\n"
     ]
    }
   ],
   "source": [
    "conn = http.client.HTTPConnection(ip)\n",
    "params = urllib.parse.urlencode({'productname': \"samsung s5\", 'inventory': 9, 'price': 200,'producttype':1})\n",
    "headers = {\"Content-type\": \"application/x-www-form-urlencoded\",\"Accept\": \"text/plain\"}\n",
    "conn.request(\"POST\", \"/addproduct\",params,headers)\n",
    "r1 = conn.getresponse()\n",
    "print(r1.status, r1.reason,r1.read())"
   ]
  },
  {
   "cell_type": "code",
   "execution_count": 40,
   "metadata": {},
   "outputs": [
    {
     "name": "stdout",
     "output_type": "stream",
     "text": [
      "200 OK b'null'\n"
     ]
    }
   ],
   "source": [
    "conn = http.client.HTTPConnection(ip)\n",
    "params = urllib.parse.urlencode({'productid': 1, 'inventory': 100})\n",
    "headers = {\"Content-type\": \"application/x-www-form-urlencoded\",\"Accept\": \"text/plain\"}\n",
    "conn.request(\"POST\", \"/changeinventory\",params,headers)\n",
    "r1 = conn.getresponse()\n",
    "print(r1.status, r1.reason,r1.read())"
   ]
  },
  {
   "cell_type": "code",
   "execution_count": 41,
   "metadata": {},
   "outputs": [
    {
     "name": "stdout",
     "output_type": "stream",
     "text": [
      "200 OK b'[{\"ProductID\": 1, \"Name\": \"iphone4\", \"Inventory\": 100, \"Price\": 300.0, \"TypeID\": 2}, {\"ProductID\": 2, \"Name\": \"samsung s5\", \"Inventory\": 9, \"Price\": 200.0, \"TypeID\": 1}]'\n"
     ]
    }
   ],
   "source": [
    "conn = http.client.HTTPConnection(ip)\n",
    "params = urllib.parse.urlencode({'keyword': '', 'sort': 0,'producttype':\"\"})\n",
    "headers = {\"Content-type\": \"application/x-www-form-urlencoded\",\"Accept\": \"text/plain\"}\n",
    "conn.request(\"GET\", \"/browse\",params,headers)\n",
    "r1 = conn.getresponse()\n",
    "print(r1.status, r1.reason,r1.read())"
   ]
  },
  {
   "cell_type": "code",
   "execution_count": 42,
   "metadata": {},
   "outputs": [
    {
     "name": "stdout",
     "output_type": "stream",
     "text": [
      "200 OK b'1'\n"
     ]
    }
   ],
   "source": [
    "conn = http.client.HTTPConnection(ip)\n",
    "params = urllib.parse.urlencode({'email':'123@123.com','password':'123','name':'You daddy','street':'some street','city':'some city','state':'pa','zipcode':'12345','isbusiness':1,'marriage':0,'gender':0,'age':18,\"income\":100.1,\"category\":1,\"gross\":1000.1})\n",
    "headers = {\"Content-type\": \"application/x-www-form-urlencoded\",\"Accept\": \"text/plain\"}\n",
    "conn.request(\"POST\", \"/signup\",params,headers)\n",
    "r1 = conn.getresponse()\n",
    "print(r1.status, r1.reason,r1.read())"
   ]
  },
  {
   "cell_type": "code",
   "execution_count": 43,
   "metadata": {},
   "outputs": [
    {
     "name": "stdout",
     "output_type": "stream",
     "text": [
      "200 OK b'2'\n"
     ]
    }
   ],
   "source": [
    "conn = http.client.HTTPConnection(ip)\n",
    "params = urllib.parse.urlencode({'email':'456@123.com','password':'123','name':'You daddy','street':'some street','city':'some city','state':'pa','zipcode':'12345','isbusiness':0,'marriage':0,'gender':0,'age':18,\"income\":100.1,\"category\":1,\"gross\":1000.1})\n",
    "headers = {\"Content-type\": \"application/x-www-form-urlencoded\",\"Accept\": \"text/plain\"}\n",
    "conn.request(\"POST\", \"/signup\",params,headers)\n",
    "r1 = conn.getresponse()\n",
    "print(r1.status, r1.reason,r1.read())"
   ]
  },
  {
   "cell_type": "code",
   "execution_count": 44,
   "metadata": {},
   "outputs": [
    {
     "name": "stdout",
     "output_type": "stream",
     "text": [
      "200 OK b'null'\n"
     ]
    }
   ],
   "source": [
    "conn = http.client.HTTPConnection(ip)\n",
    "params = urllib.parse.urlencode({'customerid': 1, 'productid': 1,'quantity':2,'salespersonid':1})\n",
    "headers = {\"Content-type\": \"application/x-www-form-urlencoded\",\"Accept\": \"text/plain\"}\n",
    "conn.request(\"POST\", \"/purchase\",params,headers)\n",
    "r1 = conn.getresponse()\n",
    "print(r1.status, r1.reason,r1.read())"
   ]
  },
  {
   "cell_type": "code",
   "execution_count": 46,
   "metadata": {},
   "outputs": [
    {
     "name": "stdout",
     "output_type": "stream",
     "text": [
      "200 OK b'[{\"Name\": \"iphone4\", \"Price\": 300.0, \"Quantity\": 2, \"Date\": \"12 04 2017\"}]'\n"
     ]
    }
   ],
   "source": [
    "conn = http.client.HTTPConnection(ip)\n",
    "params = urllib.parse.urlencode({'customerid': 1})\n",
    "headers = {\"Content-type\": \"application/x-www-form-urlencoded\",\"Accept\": \"text/plain\"}\n",
    "conn.request(\"GET\", \"/history\",params,headers)\n",
    "r1 = conn.getresponse()\n",
    "print(r1.status, r1.reason,r1.read())"
   ]
  },
  {
   "cell_type": "code",
   "execution_count": 47,
   "metadata": {},
   "outputs": [
    {
     "name": "stdout",
     "output_type": "stream",
     "text": [
      "200 OK b'{\"CustomerID\": 1, \"Name\": \"You daddy\"}'\n"
     ]
    }
   ],
   "source": [
    "conn = http.client.HTTPConnection(ip)\n",
    "params = urllib.parse.urlencode({'email': '123@123.com','password':'123'})\n",
    "headers = {\"Content-type\": \"application/x-www-form-urlencoded\",\"Accept\": \"text/plain\"}\n",
    "conn.request(\"POST\", \"/signin\",params,headers)\n",
    "r1 = conn.getresponse()\n",
    "print(r1.status, r1.reason,r1.read())"
   ]
  },
  {
   "cell_type": "code",
   "execution_count": 48,
   "metadata": {},
   "outputs": [
    {
     "name": "stdout",
     "output_type": "stream",
     "text": [
      "200 OK b'{\"SalespersonID\": 1, \"Name\": \"Someone\"}'\n"
     ]
    }
   ],
   "source": [
    "conn = http.client.HTTPConnection(ip)\n",
    "params = urllib.parse.urlencode({'email': '123@123.com','password':'123'})\n",
    "headers = {\"Content-type\": \"application/x-www-form-urlencoded\",\"Accept\": \"text/plain\"}\n",
    "conn.request(\"POST\", \"/staffsignin\",params,headers)\n",
    "r1 = conn.getresponse()\n",
    "print(r1.status, r1.reason,r1.read())"
   ]
  },
  {
   "cell_type": "code",
   "execution_count": null,
   "metadata": {
    "collapsed": true
   },
   "outputs": [],
   "source": []
  }
 ],
 "metadata": {
  "kernelspec": {
   "display_name": "Python 3",
   "language": "python",
   "name": "python3"
  },
  "language_info": {
   "codemirror_mode": {
    "name": "ipython",
    "version": 3
   },
   "file_extension": ".py",
   "mimetype": "text/x-python",
   "name": "python",
   "nbconvert_exporter": "python",
   "pygments_lexer": "ipython3",
   "version": "3.6.1"
  }
 },
 "nbformat": 4,
 "nbformat_minor": 2
}
