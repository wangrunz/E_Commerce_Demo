{
 "cells": [
  {
   "cell_type": "code",
   "execution_count": 1,
   "metadata": {},
   "outputs": [
    {
     "name": "stdout",
     "output_type": "stream",
     "text": [
      "200 OK b'null'\n"
     ]
    }
   ],
   "source": [
    "import http.client,urllib.parse\n",
    "\n",
    "conn = http.client.HTTPConnection(\"localhost:8080\")\n",
    "params = urllib.parse.urlencode({'productname': \"iphone4\", 'inventory': 10, 'price': 300,'producttype':2})\n",
    "headers = {\"Content-type\": \"application/x-www-form-urlencoded\",\"Accept\": \"text/plain\"}\n",
    "conn.request(\"POST\", \"/addproduct\",params,headers)\n",
    "r1 = conn.getresponse()\n",
    "print(r1.status, r1.reason,r1.read())"
   ]
  },
  {
   "cell_type": "code",
   "execution_count": 2,
   "metadata": {},
   "outputs": [
    {
     "name": "stdout",
     "output_type": "stream",
     "text": [
      "200 OK b'null'\n"
     ]
    }
   ],
   "source": [
    "conn = http.client.HTTPConnection(\"localhost:8080\")\n",
    "params = urllib.parse.urlencode({'productname': \"samsung s5\", 'inventory': 9, 'price': 200,'producttype':1})\n",
    "headers = {\"Content-type\": \"application/x-www-form-urlencoded\",\"Accept\": \"text/plain\"}\n",
    "conn.request(\"POST\", \"/addproduct\",params,headers)\n",
    "r1 = conn.getresponse()\n",
    "print(r1.status, r1.reason,r1.read())"
   ]
  },
  {
   "cell_type": "code",
   "execution_count": 3,
   "metadata": {},
   "outputs": [
    {
     "name": "stdout",
     "output_type": "stream",
     "text": [
      "200 OK b'null'\n"
     ]
    }
   ],
   "source": [
    "conn = http.client.HTTPConnection(\"localhost:8080\")\n",
    "params = urllib.parse.urlencode({'productid': 4, 'inventory': 100})\n",
    "headers = {\"Content-type\": \"application/x-www-form-urlencoded\",\"Accept\": \"text/plain\"}\n",
    "conn.request(\"POST\", \"/changeinventory\",params,headers)\n",
    "r1 = conn.getresponse()\n",
    "print(r1.status, r1.reason,r1.read())"
   ]
  },
  {
   "cell_type": "code",
   "execution_count": 4,
   "metadata": {},
   "outputs": [
    {
     "name": "stdout",
     "output_type": "stream",
     "text": [
      "200 OK b'[{\"ProductID\": 4, \"Name\": \"iphone4\", \"Inventory\": 100, \"Price\": 300.0, \"TypeID\": 2}, {\"ProductID\": 6, \"Name\": \"iphone4\", \"Inventory\": 10, \"Price\": 300.0, \"TypeID\": 2}, {\"ProductID\": 5, \"Name\": \"samsung s5\", \"Inventory\": 7, \"Price\": 200.0, \"TypeID\": 1}, {\"ProductID\": 7, \"Name\": \"samsung s5\", \"Inventory\": 9, \"Price\": 200.0, \"TypeID\": 1}]'\n"
     ]
    }
   ],
   "source": [
    "conn = http.client.HTTPConnection(\"localhost:8080\")\n",
    "params = urllib.parse.urlencode({'keyword': '', 'sort': 0,'producttype':\"\"})\n",
    "headers = {\"Content-type\": \"application/x-www-form-urlencoded\",\"Accept\": \"text/plain\"}\n",
    "conn.request(\"GET\", \"/browse\",params,headers)\n",
    "r1 = conn.getresponse()\n",
    "print(r1.status, r1.reason,r1.read())"
   ]
  },
  {
   "cell_type": "code",
   "execution_count": 5,
   "metadata": {},
   "outputs": [
    {
     "name": "stdout",
     "output_type": "stream",
     "text": [
      "500 Internal Server Error b'\\n    <!DOCTYPE HTML PUBLIC \"-//IETF//DTD HTML 2.0//EN\">\\n    <html>\\n        <head>\\n            <title>Error: 500 Internal Server Error</title>\\n            <style type=\"text/css\">\\n              html {background-color: #eee; font-family: sans;}\\n              body {background-color: #fff; border: 1px solid #ddd;\\n                    padding: 15px; margin: 15px;}\\n              pre {background-color: #eee; border: 1px solid #ddd; padding: 5px;}\\n            </style>\\n        </head>\\n        <body>\\n            <h1>Error: 500 Internal Server Error</h1>\\n            <p>Sorry, the requested URL <tt>&#039;http://localhost:8080/signup&#039;</tt>\\n               caused an error:</p>\\n            <pre>Internal Server Error</pre>\\n        </body>\\n    </html>\\n'\n"
     ]
    }
   ],
   "source": [
    "conn = http.client.HTTPConnection(\"localhost:8080\")\n",
    "params = urllib.parse.urlencode({'email':'123@123.com','password':'123','name':'You daddy','street':'some street','city':'some city','state':'pa','zipcode':'12345','isbusiness':1,'marriage':0,'gender':0,'age':18,\"income\":100.1,\"category\":1,\"gross\":1000.1})\n",
    "headers = {\"Content-type\": \"application/x-www-form-urlencoded\",\"Accept\": \"text/plain\"}\n",
    "conn.request(\"POST\", \"/signup\",params,headers)\n",
    "r1 = conn.getresponse()\n",
    "print(r1.status, r1.reason,r1.read())"
   ]
  },
  {
   "cell_type": "code",
   "execution_count": 6,
   "metadata": {},
   "outputs": [
    {
     "name": "stdout",
     "output_type": "stream",
     "text": [
      "500 Internal Server Error b'\\n    <!DOCTYPE HTML PUBLIC \"-//IETF//DTD HTML 2.0//EN\">\\n    <html>\\n        <head>\\n            <title>Error: 500 Internal Server Error</title>\\n            <style type=\"text/css\">\\n              html {background-color: #eee; font-family: sans;}\\n              body {background-color: #fff; border: 1px solid #ddd;\\n                    padding: 15px; margin: 15px;}\\n              pre {background-color: #eee; border: 1px solid #ddd; padding: 5px;}\\n            </style>\\n        </head>\\n        <body>\\n            <h1>Error: 500 Internal Server Error</h1>\\n            <p>Sorry, the requested URL <tt>&#039;http://localhost:8080/signup&#039;</tt>\\n               caused an error:</p>\\n            <pre>Internal Server Error</pre>\\n        </body>\\n    </html>\\n'\n"
     ]
    }
   ],
   "source": [
    "conn = http.client.HTTPConnection(\"localhost:8080\")\n",
    "params = urllib.parse.urlencode({'email':'456@123.com','password':'123','name':'You daddy','street':'some street','city':'some city','state':'pa','zipcode':'12345','isbusiness':0,'marriage':0,'gender':0,'age':18,\"income\":100.1,\"category\":1,\"gross\":1000.1})\n",
    "headers = {\"Content-type\": \"application/x-www-form-urlencoded\",\"Accept\": \"text/plain\"}\n",
    "conn.request(\"POST\", \"/signup\",params,headers)\n",
    "r1 = conn.getresponse()\n",
    "print(r1.status, r1.reason,r1.read())"
   ]
  },
  {
   "cell_type": "code",
   "execution_count": 7,
   "metadata": {},
   "outputs": [
    {
     "name": "stdout",
     "output_type": "stream",
     "text": [
      "200 OK b'null'\n"
     ]
    }
   ],
   "source": [
    "conn = http.client.HTTPConnection(\"localhost:8080\")\n",
    "params = urllib.parse.urlencode({'customerid': 1, 'productid': 4,'quantity':2,'salespersonid':1})\n",
    "headers = {\"Content-type\": \"application/x-www-form-urlencoded\",\"Accept\": \"text/plain\"}\n",
    "conn.request(\"POST\", \"/purchase\",params,headers)\n",
    "r1 = conn.getresponse()\n",
    "print(r1.status, r1.reason,r1.read())"
   ]
  },
  {
   "cell_type": "code",
   "execution_count": 8,
   "metadata": {},
   "outputs": [
    {
     "name": "stdout",
     "output_type": "stream",
     "text": [
      "200 OK b'[{\"Name\": \"iphone4\", \"Price\": 300.0, \"Quantity\": 2, \"Date\": \"12 03 2017\"}, {\"Name\": \"iphone4\", \"Price\": 300.0, \"Quantity\": 2, \"Date\": \"12 02 2017\"}, {\"Name\": \"samsung s5\", \"Price\": 200.0, \"Quantity\": 1, \"Date\": \"12 02 2017\"}]'\n"
     ]
    }
   ],
   "source": [
    "conn = http.client.HTTPConnection(\"localhost:8080\")\n",
    "params = urllib.parse.urlencode({'customerid': 1})\n",
    "headers = {\"Content-type\": \"application/x-www-form-urlencoded\",\"Accept\": \"text/plain\"}\n",
    "conn.request(\"GET\", \"/history\",params,headers)\n",
    "r1 = conn.getresponse()\n",
    "print(r1.status, r1.reason,r1.read())"
   ]
  },
  {
   "cell_type": "code",
   "execution_count": 9,
   "metadata": {},
   "outputs": [
    {
     "name": "stdout",
     "output_type": "stream",
     "text": [
      "500 Internal Server Error b'\\n    <!DOCTYPE HTML PUBLIC \"-//IETF//DTD HTML 2.0//EN\">\\n    <html>\\n        <head>\\n            <title>Error: 500 Internal Server Error</title>\\n            <style type=\"text/css\">\\n              html {background-color: #eee; font-family: sans;}\\n              body {background-color: #fff; border: 1px solid #ddd;\\n                    padding: 15px; margin: 15px;}\\n              pre {background-color: #eee; border: 1px solid #ddd; padding: 5px;}\\n            </style>\\n        </head>\\n        <body>\\n            <h1>Error: 500 Internal Server Error</h1>\\n            <p>Sorry, the requested URL <tt>&#039;http://localhost:8080/signin&#039;</tt>\\n               caused an error:</p>\\n            <pre>Internal Server Error</pre>\\n        </body>\\n    </html>\\n'\n"
     ]
    }
   ],
   "source": [
    "conn = http.client.HTTPConnection(\"localhost:8080\")\n",
    "params = urllib.parse.urlencode({'email': '123@123.com','password':'123'})\n",
    "headers = {\"Content-type\": \"application/x-www-form-urlencoded\",\"Accept\": \"text/plain\"}\n",
    "conn.request(\"POST\", \"/signin\",params,headers)\n",
    "r1 = conn.getresponse()\n",
    "print(r1.status, r1.reason,r1.read())"
   ]
  },
  {
   "cell_type": "code",
   "execution_count": 10,
   "metadata": {},
   "outputs": [
    {
     "name": "stdout",
     "output_type": "stream",
     "text": [
      "500 Internal Server Error b'\\n    <!DOCTYPE HTML PUBLIC \"-//IETF//DTD HTML 2.0//EN\">\\n    <html>\\n        <head>\\n            <title>Error: 500 Internal Server Error</title>\\n            <style type=\"text/css\">\\n              html {background-color: #eee; font-family: sans;}\\n              body {background-color: #fff; border: 1px solid #ddd;\\n                    padding: 15px; margin: 15px;}\\n              pre {background-color: #eee; border: 1px solid #ddd; padding: 5px;}\\n            </style>\\n        </head>\\n        <body>\\n            <h1>Error: 500 Internal Server Error</h1>\\n            <p>Sorry, the requested URL <tt>&#039;http://localhost:8080/staffsignin&#039;</tt>\\n               caused an error:</p>\\n            <pre>Internal Server Error</pre>\\n        </body>\\n    </html>\\n'\n"
     ]
    }
   ],
   "source": [
    "conn = http.client.HTTPConnection(\"localhost:8080\")\n",
    "params = urllib.parse.urlencode({'email': '123@123.com','password':'123'})\n",
    "headers = {\"Content-type\": \"application/x-www-form-urlencoded\",\"Accept\": \"text/plain\"}\n",
    "conn.request(\"POST\", \"/staffsignin\",params,headers)\n",
    "r1 = conn.getresponse()\n",
    "print(r1.status, r1.reason,r1.read())"
   ]
  },
  {
   "cell_type": "code",
   "execution_count": null,
   "metadata": {
    "collapsed": true
   },
   "outputs": [],
   "source": []
  }
 ],
 "metadata": {
  "kernelspec": {
   "display_name": "Python 3",
   "language": "python",
   "name": "python3"
  },
  "language_info": {
   "codemirror_mode": {
    "name": "ipython",
    "version": 3
   },
   "file_extension": ".py",
   "mimetype": "text/x-python",
   "name": "python",
   "nbconvert_exporter": "python",
   "pygments_lexer": "ipython3",
   "version": "3.6.1"
  }
 },
 "nbformat": 4,
 "nbformat_minor": 2
}
